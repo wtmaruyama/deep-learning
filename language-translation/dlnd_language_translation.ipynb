{
 "cells": [
  {
   "cell_type": "markdown",
   "metadata": {
    "collapsed": true,
    "deletable": true,
    "editable": true
   },
   "source": [
    "# Language Translation\n",
    "In this project, you’re going to take a peek into the realm of neural network machine translation.  You’ll be training a sequence to sequence model on a dataset of English and French sentences that can translate new sentences from English to French.\n",
    "## Get the Data\n",
    "Since translating the whole language of English to French will take lots of time to train, we have provided you with a small portion of the English corpus."
   ]
  },
  {
   "cell_type": "code",
   "execution_count": 2,
   "metadata": {
    "collapsed": true,
    "deletable": true,
    "editable": true
   },
   "outputs": [],
   "source": [
    "\"\"\"\n",
    "DON'T MODIFY ANYTHING IN THIS CELL\n",
    "\"\"\"\n",
    "import helper\n",
    "import problem_unittests as tests\n",
    "\n",
    "source_path = 'data/small_vocab_en'\n",
    "target_path = 'data/small_vocab_fr'\n",
    "source_text = helper.load_data(source_path)\n",
    "target_text = helper.load_data(target_path)"
   ]
  },
  {
   "cell_type": "markdown",
   "metadata": {
    "deletable": true,
    "editable": true
   },
   "source": [
    "## Explore the Data\n",
    "Play around with view_sentence_range to view different parts of the data."
   ]
  },
  {
   "cell_type": "code",
   "execution_count": 2,
   "metadata": {
    "collapsed": false,
    "deletable": true,
    "editable": true
   },
   "outputs": [
    {
     "name": "stdout",
     "output_type": "stream",
     "text": [
      "Dataset Stats\n",
      "Roughly the number of unique words: 227\n",
      "Number of sentences: 137861\n",
      "Average number of words in a sentence: 13.225277634719028\n",
      "\n",
      "English sentences 0 to 10:\n",
      "new jersey is sometimes quiet during autumn , and it is snowy in april .\n",
      "the united states is usually chilly during july , and it is usually freezing in november .\n",
      "california is usually quiet during march , and it is usually hot in june .\n",
      "the united states is sometimes mild during june , and it is cold in september .\n",
      "your least liked fruit is the grape , but my least liked is the apple .\n",
      "his favorite fruit is the orange , but my favorite is the grape .\n",
      "paris is relaxing during december , but it is usually chilly in july .\n",
      "new jersey is busy during spring , and it is never hot in march .\n",
      "our least liked fruit is the lemon , but my least liked is the grape .\n",
      "the united states is sometimes busy during january , and it is sometimes warm in november .\n",
      "\n",
      "French sentences 0 to 10:\n",
      "new jersey est parfois calme pendant l' automne , et il est neigeux en avril .\n",
      "les états-unis est généralement froid en juillet , et il gèle habituellement en novembre .\n",
      "california est généralement calme en mars , et il est généralement chaud en juin .\n",
      "les états-unis est parfois légère en juin , et il fait froid en septembre .\n",
      "votre moins aimé fruit est le raisin , mais mon moins aimé est la pomme .\n",
      "son fruit préféré est l'orange , mais mon préféré est le raisin .\n",
      "paris est relaxant en décembre , mais il est généralement froid en juillet .\n",
      "new jersey est occupé au printemps , et il est jamais chaude en mars .\n",
      "notre fruit est moins aimé le citron , mais mon moins aimé est le raisin .\n",
      "les états-unis est parfois occupé en janvier , et il est parfois chaud en novembre .\n"
     ]
    }
   ],
   "source": [
    "view_sentence_range = (0, 10)\n",
    "\n",
    "\"\"\"\n",
    "DON'T MODIFY ANYTHING IN THIS CELL\n",
    "\"\"\"\n",
    "import numpy as np\n",
    "\n",
    "print('Dataset Stats')\n",
    "print('Roughly the number of unique words: {}'.format(len({word: None for word in source_text.split()})))\n",
    "\n",
    "sentences = source_text.split('\\n')\n",
    "word_counts = [len(sentence.split()) for sentence in sentences]\n",
    "print('Number of sentences: {}'.format(len(sentences)))\n",
    "print('Average number of words in a sentence: {}'.format(np.average(word_counts)))\n",
    "\n",
    "print()\n",
    "print('English sentences {} to {}:'.format(*view_sentence_range))\n",
    "print('\\n'.join(source_text.split('\\n')[view_sentence_range[0]:view_sentence_range[1]]))\n",
    "print()\n",
    "print('French sentences {} to {}:'.format(*view_sentence_range))\n",
    "print('\\n'.join(target_text.split('\\n')[view_sentence_range[0]:view_sentence_range[1]]))"
   ]
  },
  {
   "cell_type": "markdown",
   "metadata": {
    "deletable": true,
    "editable": true
   },
   "source": [
    "## Implement Preprocessing Function\n",
    "### Text to Word Ids\n",
    "As you did with other RNNs, you must turn the text into a number so the computer can understand it. In the function `text_to_ids()`, you'll turn `source_text` and `target_text` from words to ids.  However, you need to add the `<EOS>` word id at the end of `target_text`.  This will help the neural network predict when the sentence should end.\n",
    "\n",
    "You can get the `<EOS>` word id by doing:\n",
    "```python\n",
    "target_vocab_to_int['<EOS>']\n",
    "```\n",
    "You can get other word ids using `source_vocab_to_int` and `target_vocab_to_int`."
   ]
  },
  {
   "cell_type": "code",
   "execution_count": 3,
   "metadata": {
    "collapsed": false,
    "deletable": true,
    "editable": true
   },
   "outputs": [
    {
     "name": "stdout",
     "output_type": "stream",
     "text": [
      "[[31, 6, 16, 12, 5, 21, 13, 9, 22, 30, 16, 27, 32, 25, 20], [11, 17, 26, 16, 15, 18, 21, 23, 9, 22, 30, 16, 15, 7, 32, 24, 20], [29, 16, 15, 5, 21, 14, 9, 22, 30, 16, 15, 4, 32, 10, 20], [11, 17, 26, 16, 12, 8, 21, 10, 9, 22, 30, 16, 19, 32, 28, 20]]\n",
      "[[33, 10, 4, 32, 21, 15, 5, 14, 13, 30, 7, 4, 6, 8, 12, 25, 1], [22, 9, 4, 18, 17, 8, 16, 13, 30, 7, 31, 28, 8, 11, 25, 1], [29, 4, 18, 21, 8, 27, 13, 30, 7, 4, 18, 19, 8, 23, 25, 1], [22, 9, 4, 32, 20, 8, 23, 13, 30, 7, 26, 17, 8, 24, 25, 1]]\n",
      "Tests Passed\n"
     ]
    }
   ],
   "source": [
    "def text_to_ids(source_text, target_text, source_vocab_to_int, target_vocab_to_int):\n",
    "    \"\"\"\n",
    "    Convert source and target text to proper word ids\n",
    "    :param source_text: String that contains all the source text.\n",
    "    :param target_text: String that contains all the target text.\n",
    "    :param source_vocab_to_int: Dictionary to go from the source words to an id\n",
    "    :param target_vocab_to_int: Dictionary to go from the target words to an id\n",
    "    :return: A tuple of lists (source_id_text, target_id_text)\n",
    "    \"\"\"\n",
    "    # Break by lines\n",
    "    source_line = []\n",
    "    for line in source_text.split('\\n'):\n",
    "        source_line.append(line)\n",
    "        \n",
    "    target_line = [line + ' <EOS>' for line in target_text.split('\\n')]\n",
    "    \n",
    "    source_id_text = []\n",
    "    for line in source_line:\n",
    "        element = []\n",
    "        for word in line.split():\n",
    "            element.append(source_vocab_to_int[word])\n",
    "        source_id_text.append(element)\n",
    "            \n",
    "    target_id_text = [[target_vocab_to_int[word] for word in line.split()] for line in target_line]\n",
    "   \n",
    "    print(source_id_text)\n",
    "    print(target_id_text)\n",
    "    return source_id_text, target_id_text\n",
    "\n",
    "\"\"\"\n",
    "DON'T MODIFY ANYTHING IN THIS CELL THAT IS BELOW THIS LINE\n",
    "\"\"\"\n",
    "tests.test_text_to_ids(text_to_ids)"
   ]
  },
  {
   "cell_type": "markdown",
   "metadata": {
    "deletable": true,
    "editable": true
   },
   "source": [
    "### Preprocess all the data and save it\n",
    "Running the code cell below will preprocess all the data and save it to file."
   ]
  },
  {
   "cell_type": "code",
   "execution_count": 1,
   "metadata": {
    "collapsed": false,
    "deletable": true,
    "editable": true
   },
   "outputs": [
    {
     "ename": "NameError",
     "evalue": "name 'helper' is not defined",
     "output_type": "error",
     "traceback": [
      "\u001b[0;31m---------------------------------------------------------------------------\u001b[0m",
      "\u001b[0;31mNameError\u001b[0m                                 Traceback (most recent call last)",
      "\u001b[0;32m<ipython-input-1-611d137e6332>\u001b[0m in \u001b[0;36m<module>\u001b[0;34m()\u001b[0m\n\u001b[1;32m      2\u001b[0m \u001b[0mDON\u001b[0m\u001b[0;31m'\u001b[0m\u001b[0mT\u001b[0m \u001b[0mMODIFY\u001b[0m \u001b[0mANYTHING\u001b[0m \u001b[0mIN\u001b[0m \u001b[0mTHIS\u001b[0m \u001b[0mCELL\u001b[0m\u001b[0;34m\u001b[0m\u001b[0m\n\u001b[1;32m      3\u001b[0m \"\"\"\n\u001b[0;32m----> 4\u001b[0;31m \u001b[0mhelper\u001b[0m\u001b[0;34m.\u001b[0m\u001b[0mpreprocess_and_save_data\u001b[0m\u001b[0;34m(\u001b[0m\u001b[0msource_path\u001b[0m\u001b[0;34m,\u001b[0m \u001b[0mtarget_path\u001b[0m\u001b[0;34m,\u001b[0m \u001b[0mtext_to_ids\u001b[0m\u001b[0;34m)\u001b[0m\u001b[0;34m\u001b[0m\u001b[0m\n\u001b[0m",
      "\u001b[0;31mNameError\u001b[0m: name 'helper' is not defined"
     ]
    }
   ],
   "source": [
    "\"\"\"\n",
    "DON'T MODIFY ANYTHING IN THIS CELL\n",
    "\"\"\"\n",
    "helper.preprocess_and_save_data(source_path, target_path, text_to_ids)"
   ]
  },
  {
   "cell_type": "markdown",
   "metadata": {
    "deletable": true,
    "editable": true
   },
   "source": [
    "# Check Point\n",
    "This is your first checkpoint. If you ever decide to come back to this notebook or have to restart the notebook, you can start from here. The preprocessed data has been saved to disk."
   ]
  },
  {
   "cell_type": "code",
   "execution_count": 1,
   "metadata": {
    "collapsed": true,
    "deletable": true,
    "editable": true
   },
   "outputs": [],
   "source": [
    "\"\"\"\n",
    "DON'T MODIFY ANYTHING IN THIS CELL\n",
    "\"\"\"\n",
    "import numpy as np\n",
    "import helper\n",
    "import problem_unittests as tests\n",
    "\n",
    "(source_int_text, target_int_text), (source_vocab_to_int, target_vocab_to_int), _ = helper.load_preprocess()"
   ]
  },
  {
   "cell_type": "markdown",
   "metadata": {
    "deletable": true,
    "editable": true
   },
   "source": [
    "### Check the Version of TensorFlow and Access to GPU\n",
    "This will check to make sure you have the correct version of TensorFlow and access to a GPU"
   ]
  },
  {
   "cell_type": "code",
   "execution_count": 3,
   "metadata": {
    "collapsed": false,
    "deletable": true,
    "editable": true
   },
   "outputs": [
    {
     "name": "stdout",
     "output_type": "stream",
     "text": [
      "TensorFlow Version: 1.1.0\n",
      "Default GPU Device: /gpu:0\n"
     ]
    }
   ],
   "source": [
    "\"\"\"\n",
    "DON'T MODIFY ANYTHING IN THIS CELL\n",
    "\"\"\"\n",
    "from distutils.version import LooseVersion\n",
    "import warnings\n",
    "import tensorflow as tf\n",
    "from tensorflow.python.layers.core import Dense\n",
    "\n",
    "# Check TensorFlow Version\n",
    "assert LooseVersion(tf.__version__) >= LooseVersion('1.1'), 'Please use TensorFlow version 1.1 or newer'\n",
    "print('TensorFlow Version: {}'.format(tf.__version__))\n",
    "\n",
    "# Check for a GPU\n",
    "if not tf.test.gpu_device_name():\n",
    "    warnings.warn('No GPU found. Please use a GPU to train your neural network.')\n",
    "else:\n",
    "    print('Default GPU Device: {}'.format(tf.test.gpu_device_name()))"
   ]
  },
  {
   "cell_type": "markdown",
   "metadata": {
    "deletable": true,
    "editable": true
   },
   "source": [
    "## Build the Neural Network\n",
    "You'll build the components necessary to build a Sequence-to-Sequence model by implementing the following functions below:\n",
    "- `model_inputs`\n",
    "- `process_decoder_input`\n",
    "- `encoding_layer`\n",
    "- `decoding_layer_train`\n",
    "- `decoding_layer_infer`\n",
    "- `decoding_layer`\n",
    "- `seq2seq_model`\n",
    "\n",
    "### Input\n",
    "Implement the `model_inputs()` function to create TF Placeholders for the Neural Network. It should create the following placeholders:\n",
    "\n",
    "- Input text placeholder named \"input\" using the TF Placeholder name parameter with rank 2.\n",
    "- Targets placeholder with rank 2.\n",
    "- Learning rate placeholder with rank 0.\n",
    "- Keep probability placeholder named \"keep_prob\" using the TF Placeholder name parameter with rank 0.\n",
    "- Target sequence length placeholder named \"target_sequence_length\" with rank 1\n",
    "- Max target sequence length tensor named \"max_target_len\" getting its value from applying tf.reduce_max on the target_sequence_length placeholder. Rank 0.\n",
    "- Source sequence length placeholder named \"source_sequence_length\" with rank 1\n",
    "\n",
    "Return the placeholders in the following the tuple (input, targets, learning rate, keep probability, target sequence length, max target sequence length, source sequence length)"
   ]
  },
  {
   "cell_type": "code",
   "execution_count": 36,
   "metadata": {
    "collapsed": false,
    "deletable": true,
    "editable": true
   },
   "outputs": [
    {
     "name": "stdout",
     "output_type": "stream",
     "text": [
      "Tests Passed\n"
     ]
    }
   ],
   "source": [
    "def model_inputs():\n",
    "    \"\"\"\n",
    "    Create TF Placeholders for input, targets, learning rate, and lengths of source and target sequences.\n",
    "    :return: Tuple (input, targets, learning rate, keep probability, target sequence length,\n",
    "    max target sequence length, source sequence length)\n",
    "    \"\"\"\n",
    "    # create TF Placeholders for the Neural Network\n",
    "    inputs = tf.placeholder(tf.int32, [None, None], 'input')\n",
    "    \n",
    "    target = tf.placeholder(tf.int32, [None, None], 'target')\n",
    "    \n",
    "    source_sequence = tf.placeholder(tf.int32, [None, None], 'source_sequence')\n",
    "    \n",
    "    target_sequence = tf.placeholder(tf.int32, [None, None], 'target_sequence')\n",
    "    \n",
    "    target_sequence_length = tf.placeholder(tf.int32, (None,), name='target_sequence_length')\n",
    "    \n",
    "    lr = tf.placeholder(tf.float32, None, 'lr')\n",
    "    \n",
    "    keep_prob = tf.placeholder(tf.float32, None, 'keep_prob')\n",
    "    \n",
    "    max_summary_length = tf.reduce_max(target_sequence_length, name='max_target_len')\n",
    "    \n",
    "    source_sequence_length = tf.placeholder(tf.int32, (None,), name='source_sequence_length')\n",
    "    \n",
    "    return inputs, target, lr, keep_prob,target_sequence_length,max_summary_length,source_sequence_length\n",
    "\n",
    "\n",
    "\n",
    "\"\"\"\n",
    "DON'T MODIFY ANYTHING IN THIS CELL THAT IS BELOW THIS LINE\n",
    "\"\"\"\n",
    "tests.test_model_inputs(model_inputs)"
   ]
  },
  {
   "cell_type": "markdown",
   "metadata": {
    "deletable": true,
    "editable": true
   },
   "source": [
    "### Process Decoder Input\n",
    "Implement `process_decoder_input` by removing the last word id from each batch in `target_data` and concat the GO ID to the begining of each batch."
   ]
  },
  {
   "cell_type": "code",
   "execution_count": 5,
   "metadata": {
    "collapsed": false,
    "deletable": true,
    "editable": true
   },
   "outputs": [
    {
     "name": "stdout",
     "output_type": "stream",
     "text": [
      "Tensor(\"StridedSlice:0\", shape=(2, 2), dtype=int32)\n",
      "Tensor(\"concat:0\", shape=(2, 3), dtype=int32)\n",
      "Tests Passed\n"
     ]
    }
   ],
   "source": [
    "def process_decoder_input(target_data, target_vocab_to_int, batch_size):\n",
    "    \"\"\"\n",
    "    Preprocess target data for encoding\n",
    "    :param target_data: Target Placehoder\n",
    "    :param target_vocab_to_int: Dictionary to go from the target words to an id\n",
    "    :param batch_size: Batch Size\n",
    "    :return: Preprocessed target data\n",
    "    \"\"\"\n",
    "    go_id = target_vocab_to_int['<GO>']\n",
    "    \n",
    "    ending = tf.strided_slice(input_=target_data, begin=[0, 0], end=[batch_size, -1], strides=[1, 1])\n",
    "    print(ending)\n",
    "    concat = tf.concat([tf.fill([batch_size, 1], go_id), ending], 1)\n",
    "    print(concat)\n",
    "    return concat\n",
    "\n",
    "\"\"\"\n",
    "DON'T MODIFY ANYTHING IN THIS CELL THAT IS BELOW THIS LINE\n",
    "\"\"\"\n",
    "tests.test_process_encoding_input(process_decoder_input)"
   ]
  },
  {
   "cell_type": "code",
   "execution_count": 16,
   "metadata": {
    "collapsed": false,
    "deletable": true,
    "editable": true
   },
   "outputs": [
    {
     "name": "stdout",
     "output_type": "stream",
     "text": [
      "bounds: [ 3 -1]\n",
      "out: [[1 2]\n",
      " [3 4]\n",
      " [7 8]]\n",
      "out: [[1 3]\n",
      " [3 5]\n",
      " [7 9]]\n"
     ]
    }
   ],
   "source": [
    "# Exemple strided slice\n",
    "# https://stackoverflow.com/questions/43827792/how-do-i-use-strided-slice-to-select-all-the-element-in-tensorflow\n",
    "# To get the last output \n",
    "sess = tf.Session()\n",
    "x = tf.constant([[1,2,3],\n",
    "                 [3,4,5],\n",
    "                 [7,8,9]])\n",
    "y = tf.shape(x)\n",
    "# Remove last column\n",
    "bounds = tf.concat([y[:-1], [-1]], axis=0)\n",
    "print(\"bounds: {}\".format(sess.run(bounds)))\n",
    "out = tf.strided_slice(x, [0,0], bounds, [1,1])\n",
    "print(\"out: {}\".format(sess.run(out)))\n",
    "# Remove second column\n",
    "out = tf.strided_slice(x, begin=[0,0], end=[3,3],strides= [1,2])\n",
    "print(\"out: {}\".format(sess.run(out)))"
   ]
  },
  {
   "cell_type": "markdown",
   "metadata": {
    "deletable": true,
    "editable": true
   },
   "source": [
    "### Encoding\n",
    "Implement `encoding_layer()` to create a Encoder RNN layer:\n",
    " * Embed the encoder input using [`tf.contrib.layers.embed_sequence`](https://www.tensorflow.org/api_docs/python/tf/contrib/layers/embed_sequence)\n",
    " * Construct a [stacked](https://github.com/tensorflow/tensorflow/blob/6947f65a374ebf29e74bb71e36fd82760056d82c/tensorflow/docs_src/tutorials/recurrent.md#stacking-multiple-lstms) [`tf.contrib.rnn.LSTMCell`](https://www.tensorflow.org/api_docs/python/tf/contrib/rnn/LSTMCell) wrapped in a [`tf.contrib.rnn.DropoutWrapper`](https://www.tensorflow.org/api_docs/python/tf/contrib/rnn/DropoutWrapper)\n",
    " * Pass cell and embedded input to [`tf.nn.dynamic_rnn()`](https://www.tensorflow.org/api_docs/python/tf/nn/dynamic_rnn)"
   ]
  },
  {
   "cell_type": "code",
   "execution_count": 6,
   "metadata": {
    "collapsed": false,
    "deletable": true,
    "editable": true,
    "scrolled": false
   },
   "outputs": [
    {
     "name": "stdout",
     "output_type": "stream",
     "text": [
      "[<tensorflow.contrib.rnn.python.ops.core_rnn_cell_impl.LSTMCell object at 0x7f12d018be10>, <tensorflow.contrib.rnn.python.ops.core_rnn_cell_impl.LSTMCell object at 0x7f12d018f7f0>, <tensorflow.contrib.rnn.python.ops.core_rnn_cell_impl.LSTMCell object at 0x7f125572b898>]\n",
      "[3, 3, 3]\n",
      "[<tensorflow.contrib.rnn.python.ops.core_rnn_cell_impl.LSTMCell object at 0x7f1255d3c7f0>, <tensorflow.contrib.rnn.python.ops.core_rnn_cell_impl.LSTMCell object at 0x7f1255d3c7f0>, <tensorflow.contrib.rnn.python.ops.core_rnn_cell_impl.LSTMCell object at 0x7f1255d3c7f0>]\n",
      "Tests Passed\n"
     ]
    }
   ],
   "source": [
    "from imp import reload\n",
    "reload(tests)\n",
    "\n",
    "def encoding_layer(rnn_inputs, rnn_size, num_layers, keep_prob, \n",
    "                   source_sequence_length, source_vocab_size, \n",
    "                   encoding_embedding_size):\n",
    "    \"\"\"\n",
    "    Create encoding layer\n",
    "    :param rnn_inputs: Inputs for the RNN\n",
    "    :param rnn_size: RNN Size\n",
    "    :param num_layers: Number of layers\n",
    "    :param keep_prob: Dropout keep probability\n",
    "    :param source_sequence_length: a list of the lengths of each sequence in the batch\n",
    "    :param source_vocab_size: vocabulary size of source data\n",
    "    :param encoding_embedding_size: embedding size of source data\n",
    "    :return: tuple (RNN output, RNN state)\n",
    "    \"\"\"\n",
    "    # Embed the encoder input using tf.contrib.layers.embed_sequence\n",
    "    enc_inputs = tf.contrib.layers.embed_sequence(rnn_inputs, source_vocab_size, encoding_embedding_size)\n",
    "    \n",
    "    # lstm = tf.contrib.rnn.BasicLSTMCell(rnn_size)\n",
    "    \n",
    "    # basic LSTM cell\n",
    "    lstm = tf.contrib.rnn.LSTMCell(rnn_size, initializer=tf.random_uniform_initializer(-0.1, 0.1, seed=2))\n",
    "\n",
    "    # Add dropout to the cell\n",
    "    dropout = tf.contrib.rnn.DropoutWrapper(lstm, keep_prob)\n",
    "    \n",
    "    # Construct the decoder cell\n",
    "    list_drop = [tf.contrib.rnn.LSTMCell(rnn_size, initializer=tf.random_uniform_initializer(-0.1, 0.1, seed=2)) for _ in range(num_layers)]\n",
    "    \n",
    "    # print(list_drop) # Create diferents lstm cells\n",
    "    # print([3 for _ in range(num_layers)])\n",
    "    # print([lstm]*num_layers) # Create same cell\n",
    "    \n",
    "    # Stack up multiple LSTM layers, for deep learning\n",
    "    cell = tf.contrib.rnn.MultiRNNCell(list_drop)\n",
    "    \n",
    "    rnn_out, rnn_state = tf.nn.dynamic_rnn(cell, enc_inputs, sequence_length=source_sequence_length, dtype=tf.float32)\n",
    "    \n",
    "    return rnn_out, rnn_state\n",
    "\n",
    "\"\"\"\n",
    "DON'T MODIFY ANYTHING IN THIS CELL THAT IS BELOW THIS LINE\n",
    "\"\"\"\n",
    "tests.test_encoding_layer(encoding_layer)"
   ]
  },
  {
   "cell_type": "markdown",
   "metadata": {},
   "source": [
    "See:\n",
    "1. deep-learning/seq2seq/sequence_to_sequence_implementation.ipynb\n",
    "2. deep-learning/sentiment-rnn/Sentiment_RNN_Solution.ipynb"
   ]
  },
  {
   "cell_type": "markdown",
   "metadata": {
    "deletable": true,
    "editable": true
   },
   "source": [
    "### Decoding - Training\n",
    "Create a training decoding layer:\n",
    "* Create a [`tf.contrib.seq2seq.TrainingHelper`](https://www.tensorflow.org/api_docs/python/tf/contrib/seq2seq/TrainingHelper) \n",
    "* Create a [`tf.contrib.seq2seq.BasicDecoder`](https://www.tensorflow.org/api_docs/python/tf/contrib/seq2seq/BasicDecoder)\n",
    "* Obtain the decoder outputs from [`tf.contrib.seq2seq.dynamic_decode`](https://www.tensorflow.org/api_docs/python/tf/contrib/seq2seq/dynamic_decode)"
   ]
  },
  {
   "cell_type": "code",
   "execution_count": 34,
   "metadata": {
    "collapsed": false,
    "deletable": true,
    "editable": true
   },
   "outputs": [
    {
     "name": "stdout",
     "output_type": "stream",
     "text": [
      "=========\n",
      "Tensor(\"decoding/Placeholder:0\", shape=(64, 22, 200), dtype=float32)\n",
      "Tensor(\"decoding/target_sequence_length:0\", shape=(?,), dtype=int32)\n",
      "=========\n",
      "Tests Passed\n"
     ]
    }
   ],
   "source": [
    "\n",
    "def decoding_layer_train(encoder_state, dec_cell, dec_embed_input, \n",
    "                         target_sequence_length, max_summary_length, \n",
    "                         output_layer, keep_prob):\n",
    "    \"\"\"\n",
    "    Create a decoding layer for training\n",
    "    :param encoder_state: Encoder State\n",
    "    :param dec_cell: Decoder RNN Cell\n",
    "    :param dec_embed_input: Decoder embedded input\n",
    "    :param target_sequence_length: The lengths of each sequence in the target batch\n",
    "    :param max_summary_length: The length of the longest sequence in the batch\n",
    "    :param output_layer: Function to apply the output layer\n",
    "    :param keep_prob: Dropout keep probability\n",
    "    :return: BasicDecoderOutput containing training logits and sample_id\n",
    "    \"\"\"\n",
    "    # print('=========')\n",
    "    # print(dec_embed_input)\n",
    "    # print(target_sequence_length)\n",
    "    # print('=========')\n",
    "    \n",
    "    helper = tf.contrib.seq2seq.TrainingHelper(dec_embed_input, target_sequence_length)\n",
    "    \n",
    "    decoder = tf.contrib.seq2seq.BasicDecoder(dec_cell, helper, encoder_state, output_layer=output_layer)\n",
    "    \n",
    "    dec_outputs, dec_state = tf.contrib.seq2seq.dynamic_decode(decoder, impute_finished=True, maximum_iterations=max_summary_length)\n",
    "    \n",
    "    return dec_outputs\n",
    "\n",
    "\n",
    "\"\"\"\n",
    "DON'T MODIFY ANYTHING IN THIS CELL THAT IS BELOW THIS LINE\n",
    "\"\"\"\n",
    "tests.test_decoding_layer_train(decoding_layer_train)"
   ]
  },
  {
   "cell_type": "markdown",
   "metadata": {
    "deletable": true,
    "editable": true
   },
   "source": [
    "### Decoding - Inference\n",
    "Create inference decoder:\n",
    "* Create a [`tf.contrib.seq2seq.GreedyEmbeddingHelper`](https://www.tensorflow.org/api_docs/python/tf/contrib/seq2seq/GreedyEmbeddingHelper)\n",
    "* Create a [`tf.contrib.seq2seq.BasicDecoder`](https://www.tensorflow.org/api_docs/python/tf/contrib/seq2seq/BasicDecoder)\n",
    "* Obtain the decoder outputs from [`tf.contrib.seq2seq.dynamic_decode`](https://www.tensorflow.org/api_docs/python/tf/contrib/seq2seq/dynamic_decode)"
   ]
  },
  {
   "cell_type": "code",
   "execution_count": 8,
   "metadata": {
    "collapsed": false,
    "deletable": true,
    "editable": true,
    "scrolled": true
   },
   "outputs": [
    {
     "name": "stdout",
     "output_type": "stream",
     "text": [
      "Tests Passed\n"
     ]
    }
   ],
   "source": [
    "def decoding_layer_infer(encoder_state, dec_cell, dec_embeddings, start_of_sequence_id,\n",
    "                         end_of_sequence_id, max_target_sequence_length,\n",
    "                         vocab_size, output_layer, batch_size, keep_prob):\n",
    "    \"\"\"\n",
    "    Create a decoding layer for inference\n",
    "    :param encoder_state: Encoder state\n",
    "    :param dec_cell: Decoder RNN Cell\n",
    "    :param dec_embeddings: Decoder embeddings\n",
    "    :param start_of_sequence_id: GO ID\n",
    "    :param end_of_sequence_id: EOS Id\n",
    "    :param max_target_sequence_length: Maximum length of target sequences\n",
    "    :param vocab_size: Size of decoder/target vocabulary\n",
    "    :param decoding_scope: TenorFlow Variable Scope for decoding\n",
    "    :param output_layer: Function to apply the output layer\n",
    "    :param batch_size: Batch size\n",
    "    :param keep_prob: Dropout keep probability\n",
    "    :return: BasicDecoderOutput containing inference logits and sample_id\n",
    "    \"\"\"\n",
    "    start_of_sequence_id = target_vocab_to_int['<GO>']\n",
    "    end_of_sequence_id = target_vocab_to_int['<EOS>']\n",
    "       \n",
    "    start_tokens = tf.tile(tf.constant([start_of_sequence_id], dtype=tf.int32), [batch_size], name='start_tokens')\n",
    "       \n",
    "    inference_helper = tf.contrib.seq2seq.GreedyEmbeddingHelper(dec_embeddings, start_tokens,\n",
    "                                                                    end_of_sequence_id)\n",
    "       \n",
    "    inference_decoder = tf.contrib.seq2seq.BasicDecoder(dec_cell,\n",
    "                                                           inference_helper,\n",
    "                                                           encoder_state,\n",
    "                                                           output_layer)\n",
    "       \n",
    "    inference_decoder_output, _= tf.contrib.seq2seq.dynamic_decode(inference_decoder,\n",
    "                                                                       impute_finished=True,\n",
    "                                                                       maximum_iterations= max_target_sequence_length)\n",
    "       \n",
    "    return inference_decoder_output\n",
    "\n",
    "\n",
    "\"\"\"\n",
    "DON'T MODIFY ANYTHING IN THIS CELL THAT IS BELOW THIS LINE\n",
    "\"\"\"\n",
    "tests.test_decoding_layer_infer(decoding_layer_infer)"
   ]
  },
  {
   "cell_type": "markdown",
   "metadata": {
    "deletable": true,
    "editable": true
   },
   "source": [
    "### Build the Decoding Layer\n",
    "Implement `decoding_layer()` to create a Decoder RNN layer.\n",
    "\n",
    "* Embed the target sequences\n",
    "* Construct the decoder LSTM cell (just like you constructed the encoder cell above)\n",
    "* Create an output layer to map the outputs of the decoder to the elements of our vocabulary\n",
    "* Use the your `decoding_layer_train(encoder_state, dec_cell, dec_embed_input, target_sequence_length, max_target_sequence_length, output_layer, keep_prob)` function to get the training logits.\n",
    "* Use your `decoding_layer_infer(encoder_state, dec_cell, dec_embeddings, start_of_sequence_id, end_of_sequence_id, max_target_sequence_length, vocab_size, output_layer, batch_size, keep_prob)` function to get the inference logits.\n",
    "\n",
    "Note: You'll need to use [tf.variable_scope](https://www.tensorflow.org/api_docs/python/tf/variable_scope) to share variables between training and inference."
   ]
  },
  {
   "cell_type": "code",
   "execution_count": 22,
   "metadata": {
    "collapsed": false,
    "deletable": true,
    "editable": true
   },
   "outputs": [
    {
     "name": "stdout",
     "output_type": "stream",
     "text": [
      "Tests Passed\n"
     ]
    }
   ],
   "source": [
    "def decoding_layer(dec_input, encoder_state,\n",
    "                   target_sequence_length, max_target_sequence_length,\n",
    "                   rnn_size,\n",
    "                   num_layers, target_vocab_to_int, target_vocab_size,\n",
    "                   batch_size, keep_prob, decoding_embedding_size):\n",
    "    \"\"\"\n",
    "    Create decoding layer\n",
    "    :param dec_input: Decoder input\n",
    "    :param encoder_state: Encoder state\n",
    "    :param target_sequence_length: The lengths of each sequence in the target batch\n",
    "    :param max_target_sequence_length: Maximum length of target sequences\n",
    "    :param rnn_size: RNN Size\n",
    "    :param num_layers: Number of layers\n",
    "    :param target_vocab_to_int: Dictionary to go from the target words to an id\n",
    "    :param target_vocab_size: Size of target vocabulary\n",
    "    :param batch_size: The size of the batch\n",
    "    :param keep_prob: Dropout keep probability\n",
    "    :param decoding_embedding_size: Decoding embedding size\n",
    "    :return: Tuple of (Training BasicDecoderOutput, Inference BasicDecoderOutput)\n",
    "    \"\"\"\n",
    "    dec_embeddings = tf.Variable(tf.random_uniform([target_vocab_size, decoding_embedding_size]))\n",
    "    dec_embed_input = tf.nn.embedding_lookup(dec_embeddings, dec_input)\n",
    "   \n",
    "   \n",
    "    def make_cell(rnn_size):\n",
    " \n",
    "        dec_cell = tf.contrib.rnn.LSTMCell(rnn_size, initializer=tf.random_uniform_initializer(-0.1, 0.1, seed=2))\n",
    "       \n",
    "        return dec_cell\n",
    "   \n",
    "    dec_cell = tf.contrib.rnn.MultiRNNCell([make_cell(rnn_size) for _ in range(num_layers)])\n",
    "       \n",
    "    output_layer = Dense(target_vocab_size,\n",
    "                         kernel_initializer = tf.truncated_normal_initializer(mean = 0.0, stddev=0.1))\n",
    "     \n",
    "    with tf.variable_scope(\"decode\"):\n",
    "   \n",
    "        training_logits = decoding_layer_train(encoder_state, dec_cell, dec_embed_input,\n",
    "                         target_sequence_length, max_target_sequence_length,\n",
    "                         output_layer, keep_prob)\n",
    "   \n",
    "    with tf.variable_scope(\"decode\", reuse=True):\n",
    "   \n",
    "        inference_logits = decoding_layer_infer(encoder_state, dec_cell, dec_embeddings, target_vocab_to_int['<GO>'],\n",
    "                         target_vocab_to_int['<EOS>'], max_target_sequence_length,\n",
    "                         target_vocab_size, output_layer, batch_size, keep_prob)\n",
    "   \n",
    "    return training_logits, inference_logits\n",
    "\n",
    "\n",
    "\n",
    "\"\"\"\n",
    "DON'T MODIFY ANYTHING IN THIS CELL THAT IS BELOW THIS LINE\n",
    "\"\"\"\n",
    "tests.test_decoding_layer(decoding_layer)"
   ]
  },
  {
   "cell_type": "markdown",
   "metadata": {
    "deletable": true,
    "editable": true
   },
   "source": [
    "### Build the Neural Network\n",
    "Apply the functions you implemented above to:\n",
    "\n",
    "- Encode the input using your `encoding_layer(rnn_inputs, rnn_size, num_layers, keep_prob,  source_sequence_length, source_vocab_size, encoding_embedding_size)`.\n",
    "- Process target data using your `process_decoder_input(target_data, target_vocab_to_int, batch_size)` function.\n",
    "- Decode the encoded input using your `decoding_layer(dec_input, enc_state, target_sequence_length, max_target_sentence_length, rnn_size, num_layers, target_vocab_to_int, target_vocab_size, batch_size, keep_prob, dec_embedding_size)` function."
   ]
  },
  {
   "cell_type": "code",
   "execution_count": 18,
   "metadata": {
    "collapsed": false,
    "deletable": true,
    "editable": true
   },
   "outputs": [
    {
     "name": "stdout",
     "output_type": "stream",
     "text": [
      "[<tensorflow.contrib.rnn.python.ops.core_rnn_cell_impl.LSTMCell object at 0x7f12d7ca2898>, <tensorflow.contrib.rnn.python.ops.core_rnn_cell_impl.LSTMCell object at 0x7f12d7ca2eb8>, <tensorflow.contrib.rnn.python.ops.core_rnn_cell_impl.LSTMCell object at 0x7f1254fab208>]\n",
      "[3, 3, 3]\n",
      "[<tensorflow.contrib.rnn.python.ops.core_rnn_cell_impl.LSTMCell object at 0x7f12d7ca2ba8>, <tensorflow.contrib.rnn.python.ops.core_rnn_cell_impl.LSTMCell object at 0x7f12d7ca2ba8>, <tensorflow.contrib.rnn.python.ops.core_rnn_cell_impl.LSTMCell object at 0x7f12d7ca2ba8>]\n",
      "Tensor(\"StridedSlice:0\", shape=(64, 21), dtype=int32)\n",
      "Tensor(\"concat:0\", shape=(64, 22), dtype=int32)\n",
      "--------------------\n",
      "Tensor(\"max_target_len:0\", shape=(), dtype=int32)\n",
      "Tests Passed\n"
     ]
    }
   ],
   "source": [
    "def seq2seq_model(input_data, target_data, keep_prob, batch_size,\n",
    "                  source_sequence_length, target_sequence_length,\n",
    "                  max_target_sentence_length,\n",
    "                  source_vocab_size, target_vocab_size,\n",
    "                  enc_embedding_size, dec_embedding_size,\n",
    "                  rnn_size, num_layers, target_vocab_to_int):\n",
    "    \"\"\"\n",
    "    Build the Sequence-to-Sequence part of the neural network\n",
    "    :param input_data: Input placeholder\n",
    "    :param target_data: Target placeholder\n",
    "    :param keep_prob: Dropout keep probability placeholder\n",
    "    :param batch_size: Batch Size\n",
    "    :param source_sequence_length: Sequence Lengths of source sequences in the batch\n",
    "    :param target_sequence_length: Sequence Lengths of target sequences in the batch\n",
    "    :param source_vocab_size: Source vocabulary size\n",
    "    :param target_vocab_size: Target vocabulary size\n",
    "    :param enc_embedding_size: Decoder embedding size\n",
    "    :param dec_embedding_size: Encoder embedding size\n",
    "    :param rnn_size: RNN Size\n",
    "    :param num_layers: Number of layers\n",
    "    :param target_vocab_to_int: Dictionary to go from the target words to an id\n",
    "    :return: Tuple of (Training BasicDecoderOutput, Inference BasicDecoderOutput)\n",
    "    \"\"\"\n",
    "    enc_embed_input = tf.contrib.layers.embed_sequence(input_data, source_vocab_size, enc_embedding_size)\n",
    "   \n",
    "    _, encoder_state = encoding_layer(input_data, rnn_size, num_layers, keep_prob,\n",
    "                   source_sequence_length, source_vocab_size,\n",
    "                   enc_embedding_size)\n",
    "   \n",
    "    dec_input = process_decoder_input(target_data, target_vocab_to_int, batch_size)\n",
    "   \n",
    "    #target_embed = tf.contrib.layers.embed_sequence(target_data, target_vocab_size, dec_embedding_size)    \n",
    "   \n",
    "    dec_embeddings = tf.Variable(tf.random_uniform([target_vocab_size, dec_embedding_size]))\n",
    "    \n",
    "    print('--------------------')\n",
    "    print(max_target_sentence_length)\n",
    "    # Pass encoder state and decoder inputs to the decoders\n",
    "    training_decoder_logits, inference_decoder_logits = decoding_layer(dec_input, encoder_state,\n",
    "                   target_sequence_length, max_target_sentence_length,\n",
    "                   rnn_size, \n",
    "                   num_layers, target_vocab_to_int, target_vocab_size,\n",
    "                   batch_size, keep_prob, dec_embedding_size)\n",
    "   \n",
    "    #def decoding_layer(dec_input, encoder_state,\n",
    "    #                   target_sequence_length, max_target_sequence_length,\n",
    "    #                   rnn_size,\n",
    "    #                   num_layers, target_vocab_to_int, target_vocab_size,\n",
    "    #                   batch_size, keep_prob, dec_embedding_size):\n",
    "        \n",
    "    return training_decoder_logits, inference_decoder_logits\n",
    "\n",
    "\"\"\"\n",
    "DON'T MODIFY ANYTHING IN THIS CELL THAT IS BELOW THIS LINE\n",
    "\"\"\"\n",
    "tests.test_seq2seq_model(seq2seq_model)"
   ]
  },
  {
   "cell_type": "markdown",
   "metadata": {
    "deletable": true,
    "editable": true
   },
   "source": [
    "## Neural Network Training\n",
    "### Hyperparameters\n",
    "Tune the following parameters:\n",
    "\n",
    "- Set `epochs` to the number of epochs.\n",
    "- Set `batch_size` to the batch size.\n",
    "- Set `rnn_size` to the size of the RNNs.\n",
    "- Set `num_layers` to the number of layers.\n",
    "- Set `encoding_embedding_size` to the size of the embedding for the encoder.\n",
    "- Set `decoding_embedding_size` to the size of the embedding for the decoder.\n",
    "- Set `learning_rate` to the learning rate.\n",
    "- Set `keep_probability` to the Dropout keep probability\n",
    "- Set `display_step` to state how many steps between each debug output statement"
   ]
  },
  {
   "cell_type": "code",
   "execution_count": 49,
   "metadata": {
    "collapsed": true,
    "deletable": true,
    "editable": true
   },
   "outputs": [],
   "source": [
    "# Number of Epochs\n",
    "epochs = 20\n",
    "# Batch Size\n",
    "batch_size = 256\n",
    "# RNN Size\n",
    "rnn_size = 256\n",
    "# Number of Layers\n",
    "num_layers = 2\n",
    "# Embedding Size\n",
    "encoding_embedding_size = 10\n",
    "decoding_embedding_size = 10\n",
    "# Learning Rate\n",
    "learning_rate = 0.01\n",
    "# Dropout Keep Probability\n",
    "keep_probability = 0.5\n",
    "display_step = 100"
   ]
  },
  {
   "cell_type": "markdown",
   "metadata": {
    "deletable": true,
    "editable": true
   },
   "source": [
    "### Build the Graph\n",
    "Build the graph using the neural network you implemented."
   ]
  },
  {
   "cell_type": "code",
   "execution_count": 50,
   "metadata": {
    "collapsed": false,
    "deletable": true,
    "editable": true
   },
   "outputs": [
    {
     "name": "stdout",
     "output_type": "stream",
     "text": [
      "[<tensorflow.contrib.rnn.python.ops.core_rnn_cell_impl.LSTMCell object at 0x7f12da3ac550>, <tensorflow.contrib.rnn.python.ops.core_rnn_cell_impl.LSTMCell object at 0x7f12da3ac860>]\n",
      "[3, 3]\n",
      "[<tensorflow.contrib.rnn.python.ops.core_rnn_cell_impl.LSTMCell object at 0x7f12da3ac208>, <tensorflow.contrib.rnn.python.ops.core_rnn_cell_impl.LSTMCell object at 0x7f12da3ac208>]\n",
      "Tensor(\"StridedSlice:0\", shape=(?, ?), dtype=int32)\n",
      "Tensor(\"concat:0\", shape=(256, ?), dtype=int32)\n",
      "--------------------\n",
      "Tensor(\"max_target_len:0\", shape=(), dtype=int32)\n",
      "=========\n",
      "Tensor(\"embedding_lookup:0\", shape=(256, ?, 10), dtype=float32)\n",
      "Tensor(\"target_sequence_length:0\", shape=(?,), dtype=int32)\n",
      "=========\n"
     ]
    }
   ],
   "source": [
    "\"\"\"\n",
    "DON'T MODIFY ANYTHING IN THIS CELL\n",
    "\"\"\"\n",
    "save_path = 'checkpoints/dev'\n",
    "(source_int_text, target_int_text), (source_vocab_to_int, target_vocab_to_int), _ = helper.load_preprocess()\n",
    "max_target_sentence_length = max([len(sentence) for sentence in source_int_text])\n",
    "\n",
    "train_graph = tf.Graph()\n",
    "with train_graph.as_default():\n",
    "    input_data, targets, lr, keep_prob, target_sequence_length, max_target_sequence_length, source_sequence_length = model_inputs()\n",
    "\n",
    "    #sequence_length = tf.placeholder_with_default(max_target_sentence_length, None, name='sequence_length')\n",
    "    input_shape = tf.shape(input_data)\n",
    "\n",
    "    train_logits, inference_logits = seq2seq_model(tf.reverse(input_data, [-1]),\n",
    "                                                   targets,\n",
    "                                                   keep_prob,\n",
    "                                                   batch_size,\n",
    "                                                   source_sequence_length,\n",
    "                                                   target_sequence_length,\n",
    "                                                   max_target_sequence_length,\n",
    "                                                   len(source_vocab_to_int),\n",
    "                                                   len(target_vocab_to_int),\n",
    "                                                   encoding_embedding_size,\n",
    "                                                   decoding_embedding_size,\n",
    "                                                   rnn_size,\n",
    "                                                   num_layers,\n",
    "                                                   target_vocab_to_int)\n",
    "\n",
    "\n",
    "    training_logits = tf.identity(train_logits.rnn_output, name='logits')\n",
    "    inference_logits = tf.identity(inference_logits.sample_id, name='predictions')\n",
    "\n",
    "    masks = tf.sequence_mask(target_sequence_length, max_target_sequence_length, dtype=tf.float32, name='masks')\n",
    "\n",
    "    with tf.name_scope(\"optimization\"):\n",
    "        # Loss function\n",
    "        cost = tf.contrib.seq2seq.sequence_loss(\n",
    "            training_logits,\n",
    "            targets,\n",
    "            masks)\n",
    "\n",
    "        # Optimizer\n",
    "        optimizer = tf.train.AdamOptimizer(lr)\n",
    "\n",
    "        # Gradient Clipping\n",
    "        gradients = optimizer.compute_gradients(cost)\n",
    "        capped_gradients = [(tf.clip_by_value(grad, -1., 1.), var) for grad, var in gradients if grad is not None]\n",
    "        train_op = optimizer.apply_gradients(capped_gradients)\n"
   ]
  },
  {
   "cell_type": "markdown",
   "metadata": {
    "deletable": true,
    "editable": true
   },
   "source": [
    "Batch and pad the source and target sequences"
   ]
  },
  {
   "cell_type": "code",
   "execution_count": 51,
   "metadata": {
    "collapsed": true,
    "deletable": true,
    "editable": true
   },
   "outputs": [],
   "source": [
    "\"\"\"\n",
    "DON'T MODIFY ANYTHING IN THIS CELL\n",
    "\"\"\"\n",
    "def pad_sentence_batch(sentence_batch, pad_int):\n",
    "    \"\"\"Pad sentences with <PAD> so that each sentence of a batch has the same length\"\"\"\n",
    "    max_sentence = max([len(sentence) for sentence in sentence_batch])\n",
    "    return [sentence + [pad_int] * (max_sentence - len(sentence)) for sentence in sentence_batch]\n",
    "\n",
    "\n",
    "def get_batches(sources, targets, batch_size, source_pad_int, target_pad_int):\n",
    "    \"\"\"Batch targets, sources, and the lengths of their sentences together\"\"\"\n",
    "    for batch_i in range(0, len(sources)//batch_size):\n",
    "        start_i = batch_i * batch_size\n",
    "\n",
    "        # Slice the right amount for the batch\n",
    "        sources_batch = sources[start_i:start_i + batch_size]\n",
    "        targets_batch = targets[start_i:start_i + batch_size]\n",
    "\n",
    "        # Pad\n",
    "        pad_sources_batch = np.array(pad_sentence_batch(sources_batch, source_pad_int))\n",
    "        pad_targets_batch = np.array(pad_sentence_batch(targets_batch, target_pad_int))\n",
    "\n",
    "        # Need the lengths for the _lengths parameters\n",
    "        pad_targets_lengths = []\n",
    "        for target in pad_targets_batch:\n",
    "            pad_targets_lengths.append(len(target))\n",
    "\n",
    "        pad_source_lengths = []\n",
    "        for source in pad_sources_batch:\n",
    "            pad_source_lengths.append(len(source))\n",
    "\n",
    "        yield pad_sources_batch, pad_targets_batch, pad_source_lengths, pad_targets_lengths\n"
   ]
  },
  {
   "cell_type": "markdown",
   "metadata": {
    "deletable": true,
    "editable": true
   },
   "source": [
    "### Train\n",
    "Train the neural network on the preprocessed data. If you have a hard time getting a good loss, check the forms to see if anyone is having the same problem."
   ]
  },
  {
   "cell_type": "code",
   "execution_count": 52,
   "metadata": {
    "collapsed": false,
    "deletable": true,
    "editable": true,
    "scrolled": true
   },
   "outputs": [
    {
     "name": "stdout",
     "output_type": "stream",
     "text": [
      "Epoch   0 Batch  100/538 - Train Accuracy: 0.3695, Validation Accuracy: 0.4228, Loss: 1.9967\n",
      "Epoch   0 Batch  200/538 - Train Accuracy: 0.4646, Validation Accuracy: 0.4980, Loss: 0.9156\n",
      "Epoch   0 Batch  300/538 - Train Accuracy: 0.5565, Validation Accuracy: 0.5565, Loss: 0.6608\n",
      "Epoch   0 Batch  400/538 - Train Accuracy: 0.6023, Validation Accuracy: 0.6191, Loss: 0.6017\n",
      "Epoch   0 Batch  500/538 - Train Accuracy: 0.6660, Validation Accuracy: 0.6561, Loss: 0.4957\n",
      "Epoch   1 Batch  100/538 - Train Accuracy: 0.6752, Validation Accuracy: 0.6925, Loss: 0.4450\n",
      "Epoch   1 Batch  200/538 - Train Accuracy: 0.6887, Validation Accuracy: 0.6843, Loss: 0.3885\n",
      "Epoch   1 Batch  300/538 - Train Accuracy: 0.6819, Validation Accuracy: 0.7143, Loss: 0.3468\n",
      "Epoch   1 Batch  400/538 - Train Accuracy: 0.7256, Validation Accuracy: 0.7305, Loss: 0.3298\n",
      "Epoch   1 Batch  500/538 - Train Accuracy: 0.7569, Validation Accuracy: 0.7447, Loss: 0.2663\n",
      "Epoch   2 Batch  100/538 - Train Accuracy: 0.7461, Validation Accuracy: 0.7571, Loss: 0.2681\n",
      "Epoch   2 Batch  200/538 - Train Accuracy: 0.7777, Validation Accuracy: 0.7640, Loss: 0.2299\n",
      "Epoch   2 Batch  300/538 - Train Accuracy: 0.7859, Validation Accuracy: 0.8026, Loss: 0.2075\n",
      "Epoch   2 Batch  400/538 - Train Accuracy: 0.8116, Validation Accuracy: 0.7951, Loss: 0.1919\n",
      "Epoch   2 Batch  500/538 - Train Accuracy: 0.8565, Validation Accuracy: 0.8274, Loss: 0.1509\n",
      "Epoch   3 Batch  100/538 - Train Accuracy: 0.8773, Validation Accuracy: 0.8615, Loss: 0.1329\n",
      "Epoch   3 Batch  200/538 - Train Accuracy: 0.8766, Validation Accuracy: 0.8775, Loss: 0.1164\n",
      "Epoch   3 Batch  300/538 - Train Accuracy: 0.8763, Validation Accuracy: 0.8894, Loss: 0.1069\n",
      "Epoch   3 Batch  400/538 - Train Accuracy: 0.8975, Validation Accuracy: 0.8853, Loss: 0.0918\n",
      "Epoch   3 Batch  500/538 - Train Accuracy: 0.9245, Validation Accuracy: 0.9048, Loss: 0.0693\n",
      "Epoch   4 Batch  100/538 - Train Accuracy: 0.9252, Validation Accuracy: 0.9068, Loss: 0.0602\n",
      "Epoch   4 Batch  200/538 - Train Accuracy: 0.9330, Validation Accuracy: 0.9116, Loss: 0.0524\n",
      "Epoch   4 Batch  300/538 - Train Accuracy: 0.9234, Validation Accuracy: 0.9196, Loss: 0.0545\n",
      "Epoch   4 Batch  400/538 - Train Accuracy: 0.9317, Validation Accuracy: 0.9181, Loss: 0.0439\n",
      "Epoch   4 Batch  500/538 - Train Accuracy: 0.9515, Validation Accuracy: 0.9192, Loss: 0.0320\n",
      "Epoch   5 Batch  100/538 - Train Accuracy: 0.9285, Validation Accuracy: 0.9215, Loss: 0.0539\n",
      "Epoch   5 Batch  200/538 - Train Accuracy: 0.9518, Validation Accuracy: 0.9169, Loss: 0.0308\n",
      "Epoch   5 Batch  300/538 - Train Accuracy: 0.9358, Validation Accuracy: 0.9547, Loss: 0.0371\n",
      "Epoch   5 Batch  400/538 - Train Accuracy: 0.9431, Validation Accuracy: 0.9331, Loss: 0.0415\n",
      "Epoch   5 Batch  500/538 - Train Accuracy: 0.9659, Validation Accuracy: 0.9425, Loss: 0.0231\n",
      "Epoch   6 Batch  100/538 - Train Accuracy: 0.9563, Validation Accuracy: 0.9487, Loss: 0.0278\n",
      "Epoch   6 Batch  200/538 - Train Accuracy: 0.9654, Validation Accuracy: 0.9416, Loss: 0.0233\n",
      "Epoch   6 Batch  300/538 - Train Accuracy: 0.9615, Validation Accuracy: 0.9480, Loss: 0.0330\n",
      "Epoch   6 Batch  400/538 - Train Accuracy: 0.9654, Validation Accuracy: 0.9572, Loss: 0.0281\n",
      "Epoch   6 Batch  500/538 - Train Accuracy: 0.9730, Validation Accuracy: 0.9483, Loss: 0.0243\n",
      "Epoch   7 Batch  100/538 - Train Accuracy: 0.9648, Validation Accuracy: 0.9450, Loss: 0.0232\n",
      "Epoch   7 Batch  200/538 - Train Accuracy: 0.9764, Validation Accuracy: 0.9490, Loss: 0.0212\n",
      "Epoch   7 Batch  300/538 - Train Accuracy: 0.9516, Validation Accuracy: 0.9432, Loss: 0.0346\n",
      "Epoch   7 Batch  400/538 - Train Accuracy: 0.9600, Validation Accuracy: 0.9592, Loss: 0.0288\n",
      "Epoch   7 Batch  500/538 - Train Accuracy: 0.9746, Validation Accuracy: 0.9498, Loss: 0.0199\n",
      "Epoch   8 Batch  100/538 - Train Accuracy: 0.9645, Validation Accuracy: 0.9489, Loss: 0.0216\n",
      "Epoch   8 Batch  200/538 - Train Accuracy: 0.9775, Validation Accuracy: 0.9419, Loss: 0.0177\n",
      "Epoch   8 Batch  300/538 - Train Accuracy: 0.9673, Validation Accuracy: 0.9524, Loss: 0.0308\n",
      "Epoch   8 Batch  400/538 - Train Accuracy: 0.9578, Validation Accuracy: 0.9544, Loss: 0.0325\n",
      "Epoch   8 Batch  500/538 - Train Accuracy: 0.9741, Validation Accuracy: 0.9521, Loss: 0.0183\n",
      "Epoch   9 Batch  100/538 - Train Accuracy: 0.9625, Validation Accuracy: 0.9625, Loss: 0.0219\n",
      "Epoch   9 Batch  200/538 - Train Accuracy: 0.9816, Validation Accuracy: 0.9664, Loss: 0.0216\n",
      "Epoch   9 Batch  300/538 - Train Accuracy: 0.9613, Validation Accuracy: 0.9734, Loss: 0.0248\n",
      "Epoch   9 Batch  400/538 - Train Accuracy: 0.9589, Validation Accuracy: 0.9654, Loss: 0.0273\n",
      "Epoch   9 Batch  500/538 - Train Accuracy: 0.9790, Validation Accuracy: 0.9577, Loss: 0.0180\n",
      "Epoch  10 Batch  100/538 - Train Accuracy: 0.9670, Validation Accuracy: 0.9551, Loss: 0.0216\n",
      "Epoch  10 Batch  200/538 - Train Accuracy: 0.9797, Validation Accuracy: 0.9460, Loss: 0.0145\n",
      "Epoch  10 Batch  300/538 - Train Accuracy: 0.9637, Validation Accuracy: 0.9553, Loss: 0.0245\n",
      "Epoch  10 Batch  400/538 - Train Accuracy: 0.9728, Validation Accuracy: 0.9686, Loss: 0.0246\n",
      "Epoch  10 Batch  500/538 - Train Accuracy: 0.9741, Validation Accuracy: 0.9505, Loss: 0.0144\n",
      "Epoch  11 Batch  100/538 - Train Accuracy: 0.9678, Validation Accuracy: 0.9551, Loss: 0.0232\n",
      "Epoch  11 Batch  200/538 - Train Accuracy: 0.9805, Validation Accuracy: 0.9478, Loss: 0.0185\n",
      "Epoch  11 Batch  300/538 - Train Accuracy: 0.9769, Validation Accuracy: 0.9590, Loss: 0.0235\n",
      "Epoch  11 Batch  400/538 - Train Accuracy: 0.9678, Validation Accuracy: 0.9577, Loss: 0.0226\n",
      "Epoch  11 Batch  500/538 - Train Accuracy: 0.9792, Validation Accuracy: 0.9616, Loss: 0.0138\n",
      "Epoch  12 Batch  100/538 - Train Accuracy: 0.9742, Validation Accuracy: 0.9558, Loss: 0.0176\n",
      "Epoch  12 Batch  200/538 - Train Accuracy: 0.9748, Validation Accuracy: 0.9567, Loss: 0.0149\n",
      "Epoch  12 Batch  300/538 - Train Accuracy: 0.9743, Validation Accuracy: 0.9526, Loss: 0.0228\n",
      "Epoch  12 Batch  400/538 - Train Accuracy: 0.9775, Validation Accuracy: 0.9535, Loss: 0.0237\n",
      "Epoch  12 Batch  500/538 - Train Accuracy: 0.9872, Validation Accuracy: 0.9544, Loss: 0.0156\n",
      "Epoch  13 Batch  100/538 - Train Accuracy: 0.9736, Validation Accuracy: 0.9604, Loss: 0.0188\n",
      "Epoch  13 Batch  200/538 - Train Accuracy: 0.9732, Validation Accuracy: 0.9510, Loss: 0.0195\n",
      "Epoch  13 Batch  300/538 - Train Accuracy: 0.9589, Validation Accuracy: 0.9604, Loss: 0.0252\n",
      "Epoch  13 Batch  400/538 - Train Accuracy: 0.9708, Validation Accuracy: 0.9604, Loss: 0.0217\n",
      "Epoch  13 Batch  500/538 - Train Accuracy: 0.9780, Validation Accuracy: 0.9572, Loss: 0.0171\n",
      "Epoch  14 Batch  100/538 - Train Accuracy: 0.9781, Validation Accuracy: 0.9608, Loss: 0.0149\n",
      "Epoch  14 Batch  200/538 - Train Accuracy: 0.9711, Validation Accuracy: 0.9672, Loss: 0.0124\n",
      "Epoch  14 Batch  300/538 - Train Accuracy: 0.9704, Validation Accuracy: 0.9657, Loss: 0.0212\n",
      "Epoch  14 Batch  400/538 - Train Accuracy: 0.9660, Validation Accuracy: 0.9631, Loss: 0.0265\n",
      "Epoch  14 Batch  500/538 - Train Accuracy: 0.9835, Validation Accuracy: 0.9585, Loss: 0.0112\n",
      "Epoch  15 Batch  100/538 - Train Accuracy: 0.9715, Validation Accuracy: 0.9570, Loss: 0.0228\n",
      "Epoch  15 Batch  200/538 - Train Accuracy: 0.9705, Validation Accuracy: 0.9455, Loss: 0.0154\n",
      "Epoch  15 Batch  300/538 - Train Accuracy: 0.9613, Validation Accuracy: 0.9702, Loss: 0.0210\n",
      "Epoch  15 Batch  400/538 - Train Accuracy: 0.9773, Validation Accuracy: 0.9569, Loss: 0.0223\n",
      "Epoch  15 Batch  500/538 - Train Accuracy: 0.9837, Validation Accuracy: 0.9629, Loss: 0.0146\n",
      "Epoch  16 Batch  100/538 - Train Accuracy: 0.9842, Validation Accuracy: 0.9654, Loss: 0.0120\n",
      "Epoch  16 Batch  200/538 - Train Accuracy: 0.9842, Validation Accuracy: 0.9553, Loss: 0.0100\n",
      "Epoch  16 Batch  300/538 - Train Accuracy: 0.9738, Validation Accuracy: 0.9702, Loss: 0.0205\n",
      "Epoch  16 Batch  400/538 - Train Accuracy: 0.9747, Validation Accuracy: 0.9572, Loss: 0.0190\n",
      "Epoch  16 Batch  500/538 - Train Accuracy: 0.9838, Validation Accuracy: 0.9558, Loss: 0.0122\n",
      "Epoch  17 Batch  100/538 - Train Accuracy: 0.9812, Validation Accuracy: 0.9611, Loss: 0.0135\n",
      "Epoch  17 Batch  200/538 - Train Accuracy: 0.9807, Validation Accuracy: 0.9579, Loss: 0.0145\n",
      "Epoch  17 Batch  300/538 - Train Accuracy: 0.9740, Validation Accuracy: 0.9620, Loss: 0.0188\n",
      "Epoch  17 Batch  400/538 - Train Accuracy: 0.9719, Validation Accuracy: 0.9544, Loss: 0.0235\n",
      "Epoch  17 Batch  500/538 - Train Accuracy: 0.9798, Validation Accuracy: 0.9616, Loss: 0.0134\n",
      "Epoch  18 Batch  100/538 - Train Accuracy: 0.9801, Validation Accuracy: 0.9604, Loss: 0.0152\n",
      "Epoch  18 Batch  200/538 - Train Accuracy: 0.9805, Validation Accuracy: 0.9544, Loss: 0.0131\n",
      "Epoch  18 Batch  300/538 - Train Accuracy: 0.9682, Validation Accuracy: 0.9743, Loss: 0.0202\n",
      "Epoch  18 Batch  400/538 - Train Accuracy: 0.9714, Validation Accuracy: 0.9496, Loss: 0.0191\n",
      "Epoch  18 Batch  500/538 - Train Accuracy: 0.9822, Validation Accuracy: 0.9577, Loss: 0.0113\n",
      "Epoch  19 Batch  100/538 - Train Accuracy: 0.9918, Validation Accuracy: 0.9641, Loss: 0.0151\n",
      "Epoch  19 Batch  200/538 - Train Accuracy: 0.9928, Validation Accuracy: 0.9585, Loss: 0.0134\n",
      "Epoch  19 Batch  300/538 - Train Accuracy: 0.9775, Validation Accuracy: 0.9677, Loss: 0.0208\n",
      "Epoch  19 Batch  400/538 - Train Accuracy: 0.9771, Validation Accuracy: 0.9657, Loss: 0.0185\n",
      "Epoch  19 Batch  500/538 - Train Accuracy: 0.9812, Validation Accuracy: 0.9643, Loss: 0.0124\n",
      "Model Trained and Saved\n"
     ]
    }
   ],
   "source": [
    "\"\"\"\n",
    "DON'T MODIFY ANYTHING IN THIS CELL\n",
    "\"\"\"\n",
    "def get_accuracy(target, logits):\n",
    "    \"\"\"\n",
    "    Calculate accuracy\n",
    "    \"\"\"\n",
    "    max_seq = max(target.shape[1], logits.shape[1])\n",
    "    if max_seq - target.shape[1]:\n",
    "        target = np.pad(\n",
    "            target,\n",
    "            [(0,0),(0,max_seq - target.shape[1])],\n",
    "            'constant')\n",
    "    if max_seq - logits.shape[1]:\n",
    "        logits = np.pad(\n",
    "            logits,\n",
    "            [(0,0),(0,max_seq - logits.shape[1])],\n",
    "            'constant')\n",
    "\n",
    "    return np.mean(np.equal(target, logits))\n",
    "\n",
    "# Split data to training and validation sets\n",
    "train_source = source_int_text[batch_size:]\n",
    "train_target = target_int_text[batch_size:]\n",
    "valid_source = source_int_text[:batch_size]\n",
    "valid_target = target_int_text[:batch_size]\n",
    "(valid_sources_batch, valid_targets_batch, valid_sources_lengths, valid_targets_lengths ) = next(get_batches(valid_source,\n",
    "                                                                                                             valid_target,\n",
    "                                                                                                             batch_size,\n",
    "                                                                                                             source_vocab_to_int['<PAD>'],\n",
    "                                                                                                             target_vocab_to_int['<PAD>']))                                                                                                  \n",
    "with tf.Session(graph=train_graph) as sess:\n",
    "    sess.run(tf.global_variables_initializer())\n",
    "\n",
    "    for epoch_i in range(epochs):\n",
    "        for batch_i, (source_batch, target_batch, sources_lengths, targets_lengths) in enumerate(\n",
    "                get_batches(train_source, train_target, batch_size,\n",
    "                            source_vocab_to_int['<PAD>'],\n",
    "                            target_vocab_to_int['<PAD>'])):\n",
    "\n",
    "            _, loss = sess.run(\n",
    "                [train_op, cost],\n",
    "                {input_data: source_batch,\n",
    "                 targets: target_batch,\n",
    "                 lr: learning_rate,\n",
    "                 target_sequence_length: targets_lengths,\n",
    "                 source_sequence_length: sources_lengths,\n",
    "                 keep_prob: keep_probability})\n",
    "\n",
    "\n",
    "            if batch_i % display_step == 0 and batch_i > 0:\n",
    "\n",
    "\n",
    "                batch_train_logits = sess.run(\n",
    "                    inference_logits,\n",
    "                    {input_data: source_batch,\n",
    "                     source_sequence_length: sources_lengths,\n",
    "                     target_sequence_length: targets_lengths,\n",
    "                     keep_prob: 1.0})\n",
    "\n",
    "\n",
    "                batch_valid_logits = sess.run(\n",
    "                    inference_logits,\n",
    "                    {input_data: valid_sources_batch,\n",
    "                     source_sequence_length: valid_sources_lengths,\n",
    "                     target_sequence_length: valid_targets_lengths,\n",
    "                     keep_prob: 1.0})\n",
    "\n",
    "                train_acc = get_accuracy(target_batch, batch_train_logits)\n",
    "\n",
    "                valid_acc = get_accuracy(valid_targets_batch, batch_valid_logits)\n",
    "\n",
    "                print('Epoch {:>3} Batch {:>4}/{} - Train Accuracy: {:>6.4f}, Validation Accuracy: {:>6.4f}, Loss: {:>6.4f}'\n",
    "                      .format(epoch_i, batch_i, len(source_int_text) // batch_size, train_acc, valid_acc, loss))\n",
    "\n",
    "    # Save Model\n",
    "    saver = tf.train.Saver()\n",
    "    saver.save(sess, save_path)\n",
    "    print('Model Trained and Saved')"
   ]
  },
  {
   "cell_type": "markdown",
   "metadata": {
    "deletable": true,
    "editable": true
   },
   "source": [
    "### Save Parameters\n",
    "Save the `batch_size` and `save_path` parameters for inference."
   ]
  },
  {
   "cell_type": "code",
   "execution_count": 53,
   "metadata": {
    "collapsed": true,
    "deletable": true,
    "editable": true
   },
   "outputs": [],
   "source": [
    "\"\"\"\n",
    "DON'T MODIFY ANYTHING IN THIS CELL\n",
    "\"\"\"\n",
    "# Save parameters for checkpoint\n",
    "helper.save_params(save_path)"
   ]
  },
  {
   "cell_type": "markdown",
   "metadata": {
    "deletable": true,
    "editable": true
   },
   "source": [
    "# Checkpoint"
   ]
  },
  {
   "cell_type": "code",
   "execution_count": 54,
   "metadata": {
    "collapsed": true,
    "deletable": true,
    "editable": true
   },
   "outputs": [],
   "source": [
    "\"\"\"\n",
    "DON'T MODIFY ANYTHING IN THIS CELL\n",
    "\"\"\"\n",
    "import tensorflow as tf\n",
    "import numpy as np\n",
    "import helper\n",
    "import problem_unittests as tests\n",
    "\n",
    "_, (source_vocab_to_int, target_vocab_to_int), (source_int_to_vocab, target_int_to_vocab) = helper.load_preprocess()\n",
    "load_path = helper.load_params()"
   ]
  },
  {
   "cell_type": "markdown",
   "metadata": {
    "deletable": true,
    "editable": true
   },
   "source": [
    "## Sentence to Sequence\n",
    "To feed a sentence into the model for translation, you first need to preprocess it.  Implement the function `sentence_to_seq()` to preprocess new sentences.\n",
    "\n",
    "- Convert the sentence to lowercase\n",
    "- Convert words into ids using `vocab_to_int`\n",
    " - Convert words not in the vocabulary, to the `<UNK>` word id."
   ]
  },
  {
   "cell_type": "code",
   "execution_count": 55,
   "metadata": {
    "collapsed": false,
    "deletable": true,
    "editable": true
   },
   "outputs": [
    {
     "name": "stdout",
     "output_type": "stream",
     "text": [
      "Tests Passed\n"
     ]
    }
   ],
   "source": [
    "def sentence_to_seq(sentence, vocab_to_int):\n",
    "    \"\"\"\n",
    "    Convert a sentence to a sequence of ids\n",
    "    :param sentence: String\n",
    "    :param vocab_to_int: Dictionary to go from the words to an id\n",
    "    :return: List of word ids\n",
    "    \"\"\"\n",
    "    sentence = sentence.lower()\n",
    "    words = sentence.split()\n",
    "    word_id_list = [vocab_to_int.get(word, vocab_to_int['<UNK>']) for word in words]\n",
    "    return word_id_list\n",
    "\n",
    "\"\"\"\n",
    "DON'T MODIFY ANYTHING IN THIS CELL THAT IS BELOW THIS LINE\n",
    "\"\"\"\n",
    "tests.test_sentence_to_seq(sentence_to_seq)"
   ]
  },
  {
   "cell_type": "markdown",
   "metadata": {
    "deletable": true,
    "editable": true
   },
   "source": [
    "## Translate\n",
    "This will translate `translate_sentence` from English to French."
   ]
  },
  {
   "cell_type": "code",
   "execution_count": 56,
   "metadata": {
    "collapsed": false,
    "deletable": true,
    "editable": true
   },
   "outputs": [
    {
     "name": "stdout",
     "output_type": "stream",
     "text": [
      "INFO:tensorflow:Restoring parameters from checkpoints/dev\n",
      "Input\n",
      "  Word Ids:      [127, 173, 229, 125, 160, 10, 95]\n",
      "  English Words: ['he', 'saw', 'a', 'old', 'yellow', 'truck', '.']\n",
      "\n",
      "Prediction\n",
      "  Word Ids:      [181, 282, 219, 218, 261, 278, 306, 330, 6, 209, 1]\n",
      "  French Words: il voulait au volant d' une voiture le français . <EOS>\n"
     ]
    }
   ],
   "source": [
    "translate_sentence = 'he saw a old yellow truck .'\n",
    "\n",
    "\n",
    "\"\"\"\n",
    "DON'T MODIFY ANYTHING IN THIS CELL\n",
    "\"\"\"\n",
    "translate_sentence = sentence_to_seq(translate_sentence, source_vocab_to_int)\n",
    "\n",
    "loaded_graph = tf.Graph()\n",
    "with tf.Session(graph=loaded_graph) as sess:\n",
    "    # Load saved model\n",
    "    loader = tf.train.import_meta_graph(load_path + '.meta')\n",
    "    loader.restore(sess, load_path)\n",
    "\n",
    "    input_data = loaded_graph.get_tensor_by_name('input:0')\n",
    "    logits = loaded_graph.get_tensor_by_name('predictions:0')\n",
    "    target_sequence_length = loaded_graph.get_tensor_by_name('target_sequence_length:0')\n",
    "    source_sequence_length = loaded_graph.get_tensor_by_name('source_sequence_length:0')\n",
    "    keep_prob = loaded_graph.get_tensor_by_name('keep_prob:0')\n",
    "\n",
    "    translate_logits = sess.run(logits, {input_data: [translate_sentence]*batch_size,\n",
    "                                         target_sequence_length: [len(translate_sentence)*2]*batch_size,\n",
    "                                         source_sequence_length: [len(translate_sentence)]*batch_size,\n",
    "                                         keep_prob: 1.0})[0]\n",
    "\n",
    "print('Input')\n",
    "print('  Word Ids:      {}'.format([i for i in translate_sentence]))\n",
    "print('  English Words: {}'.format([source_int_to_vocab[i] for i in translate_sentence]))\n",
    "\n",
    "print('\\nPrediction')\n",
    "print('  Word Ids:      {}'.format([i for i in translate_logits]))\n",
    "print('  French Words: {}'.format(\" \".join([target_int_to_vocab[i] for i in translate_logits])))\n"
   ]
  },
  {
   "cell_type": "markdown",
   "metadata": {
    "deletable": true,
    "editable": true
   },
   "source": [
    "## Imperfect Translation\n",
    "You might notice that some sentences translate better than others.  Since the dataset you're using only has a vocabulary of 227 English words of the thousands that you use, you're only going to see good results using these words.  For this project, you don't need a perfect translation. However, if you want to create a better translation model, you'll need better data.\n",
    "\n",
    "You can train on the [WMT10 French-English corpus](http://www.statmt.org/wmt10/training-giga-fren.tar).  This dataset has more vocabulary and richer in topics discussed.  However, this will take you days to train, so make sure you've a GPU and the neural network is performing well on dataset we provided.  Just make sure you play with the WMT10 corpus after you've submitted this project.\n",
    "## Submitting This Project\n",
    "When submitting this project, make sure to run all the cells before saving the notebook. Save the notebook file as \"dlnd_language_translation.ipynb\" and save it as a HTML file under \"File\" -> \"Download as\". Include the \"helper.py\" and \"problem_unittests.py\" files in your submission."
   ]
  }
 ],
 "metadata": {
  "anaconda-cloud": {},
  "kernelspec": {
   "display_name": "Python 3",
   "language": "python",
   "name": "python3"
  },
  "language_info": {
   "codemirror_mode": {
    "name": "ipython",
    "version": 3
   },
   "file_extension": ".py",
   "mimetype": "text/x-python",
   "name": "python",
   "nbconvert_exporter": "python",
   "pygments_lexer": "ipython3",
   "version": "3.5.2"
  },
  "widgets": {
   "state": {},
   "version": "1.1.2"
  }
 },
 "nbformat": 4,
 "nbformat_minor": 1
}
